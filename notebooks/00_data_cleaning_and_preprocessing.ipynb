{
  "nbformat": 4,
  "nbformat_minor": 0,
  "metadata": {
    "colab": {
      "provenance": []
    },
    "kernelspec": {
      "name": "python3",
      "display_name": "Python 3"
    },
    "language_info": {
      "name": "python"
    }
  },
  "cells": [
    {
      "cell_type": "markdown",
      "source": [
        "# Flight Delay Prediction ✈️🕗\n",
        "\n",
        "This notebook contains the steps taken to get the data, explore and know about data and preprocess the data for better intrepretation for machine learning model.\n"
      ],
      "metadata": {
        "id": "YOjtEdSK5F1G"
      }
    },
    {
      "cell_type": "markdown",
      "source": [
        "## Step 0: Defining the problem statement\n",
        "\n",
        "**Objective:**  \n",
        "To determine whether an airplane is going to get delayed or not, if yes, find out by the delay (in minutes).  \n",
        "\n",
        "**Speculated Solution:**  \n",
        "Make a model to classify whether a flight is going to get delayed or not, as well as prepare a regression model to predict the time of delay."
      ],
      "metadata": {
        "id": "-j14asGJ7V5c"
      }
    },
    {
      "cell_type": "markdown",
      "source": [
        "## Step 1: Getting the data\n",
        "\n",
        "The data used for this problem is available on [Kaggle](https://www.kaggle.com/datasets/yuanyuwendymu/airline-delay-and-cancellation-data-2009-2018).\n",
        "\n",
        "\n",
        "\n",
        "- Use Kaggle's API to download the data into the Colab Environment\n",
        "- Get the utility functions that may help later.\n",
        "- Configure data files to read using Python\n",
        "\n",
        "The data contains multiple features for each year from 2009 to 2018.\n",
        "\n",
        "Glossary of the features:\n",
        "\n",
        "| Name      | Meaning |\n",
        "| :----------------:        |    :-------------------:   |\n",
        "| FL_Date      | Date of the Flight       |\n",
        "| OP_CARRIER   | Airline Identifier        |\n",
        "| OP_CARRIER_FL_NUM   | Flight Number        |\n",
        "| ORIGIN   | Starting Airport Code        |\n",
        "| DEST   | Destination Airport Code        |\n",
        "| CRS_DEP_TIME   | Planned Departure Time        |\n",
        "| DEP_TIME   | Actual Departure Time        |\n",
        "| DEP_DELAY   | Total Delay on Departure in minutes        |\n",
        "| TAXI_OUT    | Time duration elapsed between departure from the origin airport gate and wheels off        |\n",
        "| WHEELS_OFF    | Time point that the aircraft's wheels leave the ground        |\n",
        "| WHEELS_ON    | Time point that the aircraft's wheels touch on the ground        |\n",
        "| TAXI_IN    | Time duration elapsed between wheels-on and gate arrival at the destination airport        |\n",
        "| CRS_ARR_TIME    | Planned arrival time       |\n",
        "| ARR_TIME     | Actual Arrival Time       |\n",
        "| ARR_DELAY     | Total Delay on Arrival in minutes       |\n",
        "| CANCELLED     | Flight Cancelled (1 = cancelled)       |\n",
        "| CANCELLATION_CODE     | Reason for Cancellation of flight( `A - Airline/Carrier; B - Weather; C - National Air System; D - Security`)   |\n",
        "| DIVERTED     | Aircraft landed on different airport that the one scheduled   |\n",
        "| CRS_ELAPSED_TIME     | Planned time amount needed for the flight trip   |\n",
        "| ACTUAL_ELAPSED_TIME     | `AIR_TIME`+ `TAXI_IN` + `TAXI_OUT`   |\n",
        "| AIR_TIME     | The time duration between wheels_off and wheels_on time   |\n",
        "| DISTANCE     | Distance between two airports   |\n",
        "| CARRIER_DELAY     | Delay caused by the airline in minutes   |\n",
        "| WEATHER_DELAY     | Delay caused by weather   |\n",
        "| NAS_DELAY     | Delay caused by air system   |\n",
        "| SECURITY_DELAY      | Delay caused by security reasons   |\n",
        "| LATE_AIRCRAFT_DELAY      | Delay caused by security  |\n",
        "\n"
      ],
      "metadata": {
        "id": "1h1m0Et88dsg"
      }
    },
    {
      "cell_type": "code",
      "source": [
        "# Getting the helper functions script\n",
        "!wget https://raw.githubusercontent.com/ishandandekar/Airline-delay-prediction/main/src/utils/utils.py\n",
        "\n",
        "# Install the kaggle library\n",
        "!pip install -q kaggle\n",
        "\n",
        "# Upload the Kaggle API keys\n",
        "from google.colab import files\n",
        "files.upload()\n",
        "\n",
        "!mkdir ~/.kaggle\n",
        "\n",
        "# Copy the json file to the folder\n",
        "!cp kaggle.json ~/.kaggle\n",
        "\n",
        "# Change permissions for keys to work with the Kaggle API\n",
        "!chmod 600 ~/.kaggle/kaggle.json\n",
        "\n",
        "# Download the dataset\n",
        "!kaggle datasets download -d yuanyuwendymu/airline-delay-and-cancellation-data-2009-2018 --quiet\n",
        "\n",
        "# Creating a directory to store all kinds of data\n",
        "!mkdir data\n",
        "\n",
        "# Unzip data\n",
        "from utils import unzip_data\n",
        "unzip_data('airline-delay-and-cancellation-data-2009-2018.zip', data_dir=\"data/raw\")"
      ],
      "metadata": {
        "id": "sg7N_cFECPP8",
        "colab": {
          "base_uri": "https://localhost:8080/",
          "height": 264
        },
        "outputId": "75c87620-2d99-4728-eb04-f4fac0a05306"
      },
      "execution_count": 1,
      "outputs": [
        {
          "output_type": "stream",
          "name": "stdout",
          "text": [
            "--2022-12-23 11:50:47--  https://raw.githubusercontent.com/ishandandekar/Airline-delay-prediction/main/src/utils/utils.py\n",
            "Resolving raw.githubusercontent.com (raw.githubusercontent.com)... 185.199.109.133, 185.199.111.133, 185.199.108.133, ...\n",
            "Connecting to raw.githubusercontent.com (raw.githubusercontent.com)|185.199.109.133|:443... connected.\n",
            "HTTP request sent, awaiting response... 200 OK\n",
            "Length: 1838 (1.8K) [text/plain]\n",
            "Saving to: ‘utils.py’\n",
            "\n",
            "\rutils.py              0%[                    ]       0  --.-KB/s               \rutils.py            100%[===================>]   1.79K  --.-KB/s    in 0s      \n",
            "\n",
            "2022-12-23 11:50:47 (27.1 MB/s) - ‘utils.py’ saved [1838/1838]\n",
            "\n"
          ]
        },
        {
          "output_type": "display_data",
          "data": {
            "text/plain": [
              "<IPython.core.display.HTML object>"
            ],
            "text/html": [
              "\n",
              "     <input type=\"file\" id=\"files-b5c5bdf1-3262-49c9-9e63-901cb6692040\" name=\"files[]\" multiple disabled\n",
              "        style=\"border:none\" />\n",
              "     <output id=\"result-b5c5bdf1-3262-49c9-9e63-901cb6692040\">\n",
              "      Upload widget is only available when the cell has been executed in the\n",
              "      current browser session. Please rerun this cell to enable.\n",
              "      </output>\n",
              "      <script>// Copyright 2017 Google LLC\n",
              "//\n",
              "// Licensed under the Apache License, Version 2.0 (the \"License\");\n",
              "// you may not use this file except in compliance with the License.\n",
              "// You may obtain a copy of the License at\n",
              "//\n",
              "//      http://www.apache.org/licenses/LICENSE-2.0\n",
              "//\n",
              "// Unless required by applicable law or agreed to in writing, software\n",
              "// distributed under the License is distributed on an \"AS IS\" BASIS,\n",
              "// WITHOUT WARRANTIES OR CONDITIONS OF ANY KIND, either express or implied.\n",
              "// See the License for the specific language governing permissions and\n",
              "// limitations under the License.\n",
              "\n",
              "/**\n",
              " * @fileoverview Helpers for google.colab Python module.\n",
              " */\n",
              "(function(scope) {\n",
              "function span(text, styleAttributes = {}) {\n",
              "  const element = document.createElement('span');\n",
              "  element.textContent = text;\n",
              "  for (const key of Object.keys(styleAttributes)) {\n",
              "    element.style[key] = styleAttributes[key];\n",
              "  }\n",
              "  return element;\n",
              "}\n",
              "\n",
              "// Max number of bytes which will be uploaded at a time.\n",
              "const MAX_PAYLOAD_SIZE = 100 * 1024;\n",
              "\n",
              "function _uploadFiles(inputId, outputId) {\n",
              "  const steps = uploadFilesStep(inputId, outputId);\n",
              "  const outputElement = document.getElementById(outputId);\n",
              "  // Cache steps on the outputElement to make it available for the next call\n",
              "  // to uploadFilesContinue from Python.\n",
              "  outputElement.steps = steps;\n",
              "\n",
              "  return _uploadFilesContinue(outputId);\n",
              "}\n",
              "\n",
              "// This is roughly an async generator (not supported in the browser yet),\n",
              "// where there are multiple asynchronous steps and the Python side is going\n",
              "// to poll for completion of each step.\n",
              "// This uses a Promise to block the python side on completion of each step,\n",
              "// then passes the result of the previous step as the input to the next step.\n",
              "function _uploadFilesContinue(outputId) {\n",
              "  const outputElement = document.getElementById(outputId);\n",
              "  const steps = outputElement.steps;\n",
              "\n",
              "  const next = steps.next(outputElement.lastPromiseValue);\n",
              "  return Promise.resolve(next.value.promise).then((value) => {\n",
              "    // Cache the last promise value to make it available to the next\n",
              "    // step of the generator.\n",
              "    outputElement.lastPromiseValue = value;\n",
              "    return next.value.response;\n",
              "  });\n",
              "}\n",
              "\n",
              "/**\n",
              " * Generator function which is called between each async step of the upload\n",
              " * process.\n",
              " * @param {string} inputId Element ID of the input file picker element.\n",
              " * @param {string} outputId Element ID of the output display.\n",
              " * @return {!Iterable<!Object>} Iterable of next steps.\n",
              " */\n",
              "function* uploadFilesStep(inputId, outputId) {\n",
              "  const inputElement = document.getElementById(inputId);\n",
              "  inputElement.disabled = false;\n",
              "\n",
              "  const outputElement = document.getElementById(outputId);\n",
              "  outputElement.innerHTML = '';\n",
              "\n",
              "  const pickedPromise = new Promise((resolve) => {\n",
              "    inputElement.addEventListener('change', (e) => {\n",
              "      resolve(e.target.files);\n",
              "    });\n",
              "  });\n",
              "\n",
              "  const cancel = document.createElement('button');\n",
              "  inputElement.parentElement.appendChild(cancel);\n",
              "  cancel.textContent = 'Cancel upload';\n",
              "  const cancelPromise = new Promise((resolve) => {\n",
              "    cancel.onclick = () => {\n",
              "      resolve(null);\n",
              "    };\n",
              "  });\n",
              "\n",
              "  // Wait for the user to pick the files.\n",
              "  const files = yield {\n",
              "    promise: Promise.race([pickedPromise, cancelPromise]),\n",
              "    response: {\n",
              "      action: 'starting',\n",
              "    }\n",
              "  };\n",
              "\n",
              "  cancel.remove();\n",
              "\n",
              "  // Disable the input element since further picks are not allowed.\n",
              "  inputElement.disabled = true;\n",
              "\n",
              "  if (!files) {\n",
              "    return {\n",
              "      response: {\n",
              "        action: 'complete',\n",
              "      }\n",
              "    };\n",
              "  }\n",
              "\n",
              "  for (const file of files) {\n",
              "    const li = document.createElement('li');\n",
              "    li.append(span(file.name, {fontWeight: 'bold'}));\n",
              "    li.append(span(\n",
              "        `(${file.type || 'n/a'}) - ${file.size} bytes, ` +\n",
              "        `last modified: ${\n",
              "            file.lastModifiedDate ? file.lastModifiedDate.toLocaleDateString() :\n",
              "                                    'n/a'} - `));\n",
              "    const percent = span('0% done');\n",
              "    li.appendChild(percent);\n",
              "\n",
              "    outputElement.appendChild(li);\n",
              "\n",
              "    const fileDataPromise = new Promise((resolve) => {\n",
              "      const reader = new FileReader();\n",
              "      reader.onload = (e) => {\n",
              "        resolve(e.target.result);\n",
              "      };\n",
              "      reader.readAsArrayBuffer(file);\n",
              "    });\n",
              "    // Wait for the data to be ready.\n",
              "    let fileData = yield {\n",
              "      promise: fileDataPromise,\n",
              "      response: {\n",
              "        action: 'continue',\n",
              "      }\n",
              "    };\n",
              "\n",
              "    // Use a chunked sending to avoid message size limits. See b/62115660.\n",
              "    let position = 0;\n",
              "    do {\n",
              "      const length = Math.min(fileData.byteLength - position, MAX_PAYLOAD_SIZE);\n",
              "      const chunk = new Uint8Array(fileData, position, length);\n",
              "      position += length;\n",
              "\n",
              "      const base64 = btoa(String.fromCharCode.apply(null, chunk));\n",
              "      yield {\n",
              "        response: {\n",
              "          action: 'append',\n",
              "          file: file.name,\n",
              "          data: base64,\n",
              "        },\n",
              "      };\n",
              "\n",
              "      let percentDone = fileData.byteLength === 0 ?\n",
              "          100 :\n",
              "          Math.round((position / fileData.byteLength) * 100);\n",
              "      percent.textContent = `${percentDone}% done`;\n",
              "\n",
              "    } while (position < fileData.byteLength);\n",
              "  }\n",
              "\n",
              "  // All done.\n",
              "  yield {\n",
              "    response: {\n",
              "      action: 'complete',\n",
              "    }\n",
              "  };\n",
              "}\n",
              "\n",
              "scope.google = scope.google || {};\n",
              "scope.google.colab = scope.google.colab || {};\n",
              "scope.google.colab._files = {\n",
              "  _uploadFiles,\n",
              "  _uploadFilesContinue,\n",
              "};\n",
              "})(self);\n",
              "</script> "
            ]
          },
          "metadata": {}
        },
        {
          "output_type": "stream",
          "name": "stdout",
          "text": [
            "Saving kaggle.json to kaggle.json\n"
          ]
        }
      ]
    },
    {
      "cell_type": "markdown",
      "source": [
        "## Step 2: Know more about the data\n",
        "- Load in the data using Pandas\n",
        "- Optimize data for faster reading\n",
        "- Get the statistics about the data\n",
        "- Fix missing/incorrect values\n",
        "- Analyze features\n",
        "- Summarize observations"
      ],
      "metadata": {
        "id": "6O0QcX9hMJIi"
      }
    },
    {
      "cell_type": "code",
      "source": [
        "from glob import glob\n",
        "from datetime import datetime\n",
        "\n",
        "from tqdm.notebook import tqdm\n",
        "import numpy as np\n",
        "import pandas as pd\n",
        "import matplotlib.pyplot as plt\n",
        "import seaborn as sns\n",
        "\n",
        "def validate_int2str(col):\n",
        "    try:\n",
        "        if col: \n",
        "            col = int(float(col))         \n",
        "            if (col):\n",
        "                col = str(col).zfill(4) \n",
        "                col = datetime.strptime(col, '%H%M').time().strftime(\"%I:%M\") \n",
        "            return col   \n",
        "        else: \n",
        "            return np.NaN          \n",
        "    except Exception as e:      \n",
        "        return np.NaN\n",
        "\n",
        "def optimize_dataframe(df: pd.DataFrame) -> pd.DataFrame:\n",
        "  df = df.copy(deep=True)\n",
        "\n",
        "  print(f\"Before memory optimization: {df.memory_usage(deep=True).sum() * 0.000001} MBs\")\n",
        "\n",
        "  print(\"Dropping columns...\")\n",
        "  df = df.drop('Unnamed: 27', axis=1)\n",
        "  # df = df.drop('CARRIER_DELAY', axis=1)\n",
        "  # df = df.drop('WEATHER_DELAY', axis=1)\n",
        "  # df = df.drop('NAS_DELAY', axis=1)\n",
        "  # df = df.drop('SECURITY_DELAY', axis=1)\n",
        "  # df = df.drop('CANCELLATION_CODE', axis=1)\n",
        "\n",
        "  print(\"Changing data types...\")\n",
        "  df['FL_DATE'] = pd.to_datetime(df['FL_DATE'], yearfirst=True)\n",
        "  df['DEP_TIME'] = df['DEP_TIME'].astype('int8', errors='ignore')\n",
        "  df['DEP_DELAY'] = df['DEP_DELAY'].astype('int8', errors='ignore')\n",
        "  df['OP_CARRIER_FL_NUM'] = df['OP_CARRIER_FL_NUM'].astype('category', errors='ignore')\n",
        "  df['OP_CARRIER'] = df['OP_CARRIER'].astype('category', errors='ignore')\n",
        "  df['ORIGIN'] = df['ORIGIN'].astype('category', errors='ignore')\n",
        "  df['DEST'] = df['DEST'].astype('category', errors='ignore')\n",
        "  df['CANCELLED'] = df['CANCELLED'].astype('bool', errors='ignore')\n",
        "  df['DIVERTED'] = df['DIVERTED'].astype('bool', errors='ignore')\n",
        "  df['CANCELLATION_CODE'] = df['CANCELLATION_CODE'].astype('category', errors='ignore')\n",
        "\n",
        "  print(\"Parsing time columns...\")\n",
        "  cols_ = ['CRS_DEP_TIME', 'DEP_TIME', 'CRS_ARR_TIME', 'ARR_TIME', 'ARR_TIME', 'NAS_DELAY', 'SECURITY_DELAY', 'CARRIER_DELAY', 'LATE_AIRCRAFT_DELAY', 'WHEELS_OFF', 'WHEELS_ON']\n",
        "  for col_ in cols_:\n",
        "    df[col_] = df[col_].apply(lambda x: validate_int2str(x))\n",
        "\n",
        "  # df['CRS_DEP_TIME'] = df['CRS_DEP_TIME']\n",
        "  # df['DEP_TIME'] = df['DEP_TIME'].apply(lambda x: validate_int2str(x))\n",
        "  # df['CRS_ARR_TIME'] = df['CRS_ARR_TIME'].apply(lambda x: validate_int2str(x))\n",
        "  # df['ARR_TIME'] = df['ARR_TIME'].apply(lambda x: validate_int2str(x))\n",
        "  # df['NAS_DELAY'] = df['NAS_DELAY'].apply(lambda x: validate_int2str(x))\n",
        "  # df['SECURITY_DELAY'] = df['SECURITY_DELAY'].apply(lambda x: validate_int2str(x))\n",
        "  # df['CARRIER_DELAY'] = df['CARRIER_DELAY'].apply(lambda x: validate_int2str(x))\n",
        "  # df['LATE_AIRCRAFT_DELAY'] = df['LATE_AIRCRAFT_DELAY'].apply(lambda x: validate_int2str(x))\n",
        "  # df['WHEELS_OFF'] = df['WHEELS_OFF'].apply(lambda x: validate_int2str(x))\n",
        "  # df['WHEELS_ON'] = df['WHEELS_ON'].apply(lambda x: validate_int2str(x))\n",
        "\n",
        "  print(f\"After memory optimization: {df.memory_usage(deep=True).sum() * 0.000001} MBs\")\n",
        "\n",
        "  return df\n",
        "\n",
        "# csv_files = glob(\"data/raw/*.csv\")\n",
        "# dfs = []\n",
        "\n",
        "# for f in tqdm(csv_files):\n",
        "#   df = pd.read_csv(f)\n",
        "#   df = optimize_dataframe(df)\n",
        "#   dfs.append(df)\n",
        "\n",
        "# df = pd.concat(dfs, ignore_index=True)\n",
        "# print(f\"Shape of the data: {df.shape}\")"
      ],
      "metadata": {
        "id": "nUzEe_79QrMx"
      },
      "execution_count": null,
      "outputs": []
    },
    {
      "cell_type": "code",
      "source": [
        "# Checking the first 5 rows of data\n"
      ],
      "metadata": {
        "id": "byn5KsbnOIiZ"
      },
      "execution_count": null,
      "outputs": []
    },
    {
      "cell_type": "markdown",
      "source": [
        "----\n",
        "TEST"
      ],
      "metadata": {
        "id": "7ipGkQ0SOTzY"
      }
    },
    {
      "cell_type": "code",
      "source": [
        "import numpy as np\n",
        "import pandas as pd\n",
        "import matplotlib.pyplot as plt\n",
        "df2018_chunks = pd.read_csv('/content/data/raw/2018.csv')"
      ],
      "metadata": {
        "id": "utWyS_7WOWeZ"
      },
      "execution_count": 2,
      "outputs": []
    },
    {
      "cell_type": "code",
      "source": [
        "df2018_chunks.info()"
      ],
      "metadata": {
        "colab": {
          "base_uri": "https://localhost:8080/"
        },
        "id": "Gob_H7dq1aP6",
        "outputId": "11e2a798-2366-4126-a43e-28b4f2b09dff"
      },
      "execution_count": 3,
      "outputs": [
        {
          "output_type": "stream",
          "name": "stdout",
          "text": [
            "<class 'pandas.core.frame.DataFrame'>\n",
            "RangeIndex: 7213446 entries, 0 to 7213445\n",
            "Data columns (total 28 columns):\n",
            " #   Column               Dtype  \n",
            "---  ------               -----  \n",
            " 0   FL_DATE              object \n",
            " 1   OP_CARRIER           object \n",
            " 2   OP_CARRIER_FL_NUM    int64  \n",
            " 3   ORIGIN               object \n",
            " 4   DEST                 object \n",
            " 5   CRS_DEP_TIME         int64  \n",
            " 6   DEP_TIME             float64\n",
            " 7   DEP_DELAY            float64\n",
            " 8   TAXI_OUT             float64\n",
            " 9   WHEELS_OFF           float64\n",
            " 10  WHEELS_ON            float64\n",
            " 11  TAXI_IN              float64\n",
            " 12  CRS_ARR_TIME         int64  \n",
            " 13  ARR_TIME             float64\n",
            " 14  ARR_DELAY            float64\n",
            " 15  CANCELLED            float64\n",
            " 16  CANCELLATION_CODE    object \n",
            " 17  DIVERTED             float64\n",
            " 18  CRS_ELAPSED_TIME     float64\n",
            " 19  ACTUAL_ELAPSED_TIME  float64\n",
            " 20  AIR_TIME             float64\n",
            " 21  DISTANCE             float64\n",
            " 22  CARRIER_DELAY        float64\n",
            " 23  WEATHER_DELAY        float64\n",
            " 24  NAS_DELAY            float64\n",
            " 25  SECURITY_DELAY       float64\n",
            " 26  LATE_AIRCRAFT_DELAY  float64\n",
            " 27  Unnamed: 27          float64\n",
            "dtypes: float64(20), int64(3), object(5)\n",
            "memory usage: 1.5+ GB\n"
          ]
        }
      ]
    },
    {
      "cell_type": "code",
      "source": [
        "df2018_chunks['OP_CARRIER'].unique()"
      ],
      "metadata": {
        "colab": {
          "base_uri": "https://localhost:8080/"
        },
        "id": "pqB7ec8d13AR",
        "outputId": "181df536-85da-4d78-f6ff-92a8ce0f23b8"
      },
      "execution_count": 4,
      "outputs": [
        {
          "output_type": "execute_result",
          "data": {
            "text/plain": [
              "array(['UA', 'AS', '9E', 'B6', 'EV', 'F9', 'G4', 'HA', 'MQ', 'NK', 'OH',\n",
              "       'OO', 'VX', 'WN', 'YV', 'YX', 'AA', 'DL'], dtype=object)"
            ]
          },
          "metadata": {},
          "execution_count": 4
        }
      ]
    },
    {
      "cell_type": "markdown",
      "source": [
        "SOURCE : https://www.wikiwand.com/en/List_of_airlines_of_the_United_States"
      ],
      "metadata": {
        "id": "Jg5urP4t18M8"
      }
    },
    {
      "cell_type": "code",
      "source": [
        "df2018_chunks['OP_CARRIER'] = df2018_chunks['OP_CARRIER'].map({\n",
        "    'UA':'United Airlines',\n",
        "    'AS':'Alaska Airlines',\n",
        "    '9E':'Endeavor Air',\n",
        "    'B6':'JetBlue Airways',\n",
        "    'EV':'ExpressJet',\n",
        "    'F9':'Frontier Airlines',\n",
        "    'G4':'Allegiant Air',\n",
        "    'HA':'Hawaiian Airlines',\n",
        "    'MQ':'Envoy Air',\n",
        "    'NK':'Spirit Airlines',\n",
        "    'OH':'PSA Airlines',\n",
        "    'OO':'SkyWest Airlines',\n",
        "    'VX':'Virgin America',\n",
        "    'WN':'Southwest Airlines',\n",
        "    'YV':'Mesa Airline',\n",
        "    'YX':'Republic Airways',\n",
        "    'AA':'American Airlines',\n",
        "    'DL':'Delta Airlines'\n",
        "})"
      ],
      "metadata": {
        "id": "p5lchHvG1sk5"
      },
      "execution_count": 5,
      "outputs": []
    },
    {
      "cell_type": "code",
      "source": [
        "df2018_chunks.OP_CARRIER.nunique()"
      ],
      "metadata": {
        "colab": {
          "base_uri": "https://localhost:8080/"
        },
        "id": "X7Ea-u5S2B40",
        "outputId": "a197e13d-bf2b-45e6-82af-e681c06ee025"
      },
      "execution_count": 7,
      "outputs": [
        {
          "output_type": "execute_result",
          "data": {
            "text/plain": [
              "18"
            ]
          },
          "metadata": {},
          "execution_count": 7
        }
      ]
    },
    {
      "cell_type": "code",
      "source": [
        "df2018_chunks = df2018_chunks.drop([\"Unnamed: 27\"], axis=1)"
      ],
      "metadata": {
        "id": "dF1jhN8E2MPY"
      },
      "execution_count": 8,
      "outputs": []
    },
    {
      "cell_type": "markdown",
      "source": [
        "DROPPING CANCELLED FLIGHTS BECAUSE WE ONLY WANT THE ONES WHICH GOT DELAYED"
      ],
      "metadata": {
        "id": "plfJj9RE2WER"
      }
    },
    {
      "cell_type": "code",
      "source": [
        "df2018_chunks = df2018_chunks[(df2018_chunks['CANCELLED'] == 0)]\n",
        "df2018_chunks = df2018_chunks.drop(['CANCELLED'], axis = 1)"
      ],
      "metadata": {
        "id": "Fgl31y2a2Qb0"
      },
      "execution_count": 9,
      "outputs": []
    },
    {
      "cell_type": "markdown",
      "source": [
        "REMOVING CANCELLATION_CODE BECAUSE OF NA VALUES"
      ],
      "metadata": {
        "id": "OJCMSGwp21yM"
      }
    },
    {
      "cell_type": "code",
      "source": [
        "df2018_chunks = df2018_chunks.drop([\"CANCELLATION_CODE\"], axis=1)"
      ],
      "metadata": {
        "id": "Gy1u5z-12z-0"
      },
      "execution_count": 12,
      "outputs": []
    },
    {
      "cell_type": "markdown",
      "source": [
        "IT IS THE RESPONSIBILITY OF THE DIVERTED FLIGHTS TO TRANSPORT THE PASSENGERS TO THE CORRECT DESTINATION, SO THIS WILL BE CONSIDERED AS DELAYED."
      ],
      "metadata": {
        "id": "xHngvmoT3V_U"
      }
    },
    {
      "cell_type": "code",
      "source": [
        "df2018_chunks.DIVERTED.value_counts()"
      ],
      "metadata": {
        "colab": {
          "base_uri": "https://localhost:8080/"
        },
        "id": "7HhambtV29mM",
        "outputId": "e5727124-84a9-413c-fdc6-19968551c8c1"
      },
      "execution_count": 13,
      "outputs": [
        {
          "output_type": "execute_result",
          "data": {
            "text/plain": [
              "0.0    7079005\n",
              "1.0      17857\n",
              "Name: DIVERTED, dtype: int64"
            ]
          },
          "metadata": {},
          "execution_count": 13
        }
      ]
    },
    {
      "cell_type": "markdown",
      "source": [
        "<!-- DIVERTED 1 means the flight has been diverted   -->\n",
        "DROPPING DIVERTED COLUMN BECAUSE NO INFORMATION"
      ],
      "metadata": {
        "id": "pevcp0jC36Ic"
      }
    },
    {
      "cell_type": "markdown",
      "source": [
        "DEALING WITH DELAY REASONS"
      ],
      "metadata": {
        "id": "84sTem3a43tu"
      }
    },
    {
      "cell_type": "code",
      "source": [
        "print(df2018_chunks.CARRIER_DELAY.isna().sum())\n",
        "print(df2018_chunks.WEATHER_DELAY.isna().sum())\n",
        "print(df2018_chunks.NAS_DELAY.isna().sum())\n",
        "print(df2018_chunks.SECURITY_DELAY.isna().sum())\n",
        "print(df2018_chunks.LATE_AIRCRAFT_DELAY.isna().sum())"
      ],
      "metadata": {
        "colab": {
          "base_uri": "https://localhost:8080/"
        },
        "id": "Rd6KX3TW31vw",
        "outputId": "39119dd2-0f63-4122-da80-aaad10163d93"
      },
      "execution_count": 14,
      "outputs": [
        {
          "output_type": "stream",
          "name": "stdout",
          "text": [
            "5744152\n",
            "5744152\n",
            "5744152\n",
            "5744152\n",
            "5744152\n"
          ]
        }
      ]
    },
    {
      "cell_type": "code",
      "source": [
        "print(\"Percentage of valid data:\", 100 - (df2018_chunks.CARRIER_DELAY.isna().sum()*100/len(df2018_chunks)))\n",
        "print(\"Percentage of missing values:\", (df2018_chunks.CARRIER_DELAY.isna().sum()*100/len(df2018_chunks)))"
      ],
      "metadata": {
        "colab": {
          "base_uri": "https://localhost:8080/"
        },
        "id": "e6EXpiXL5CF0",
        "outputId": "380fab63-59bb-48a1-ec67-9f31b3a96e5a"
      },
      "execution_count": 15,
      "outputs": [
        {
          "output_type": "stream",
          "name": "stdout",
          "text": [
            "Percentage of valid data: 19.060677803795542\n",
            "Percentage of missing values: 80.93932219620446\n"
          ]
        }
      ]
    },
    {
      "cell_type": "code",
      "source": [
        "df2018_chunks = df2018_chunks.drop(['CARRIER_DELAY', 'WEATHER_DELAY', 'NAS_DELAY', 'SECURITY_DELAY', 'LATE_AIRCRAFT_DELAY'], axis=1)\n",
        "print('The current shape of df1 is:', df2018_chunks.shape)"
      ],
      "metadata": {
        "colab": {
          "base_uri": "https://localhost:8080/"
        },
        "id": "3DZctg5g5Il0",
        "outputId": "3e615085-3ad7-4c49-aad2-fd3f4a1a77bf"
      },
      "execution_count": 16,
      "outputs": [
        {
          "output_type": "stream",
          "name": "stdout",
          "text": [
            "The current shape of df1 is: (7096862, 20)\n"
          ]
        }
      ]
    },
    {
      "cell_type": "markdown",
      "source": [
        "DROPPING IRRELAVENT COLUMN"
      ],
      "metadata": {
        "id": "p846teDn5294"
      }
    },
    {
      "cell_type": "code",
      "source": [
        "df2018_chunks = df2018_chunks.drop(['OP_CARRIER_FL_NUM'], axis=1)"
      ],
      "metadata": {
        "id": "a_9dMe3s55ek"
      },
      "execution_count": 17,
      "outputs": []
    },
    {
      "cell_type": "markdown",
      "source": [
        "BELOW COLUMNS DO NOT HELP TOO, WE ALREADY HAVE DEP_DELAY"
      ],
      "metadata": {
        "id": "AfH4hRWX6S_4"
      }
    },
    {
      "cell_type": "code",
      "source": [
        "df2018_chunks = df2018_chunks.drop(columns=['DEP_TIME', 'ARR_TIME'])"
      ],
      "metadata": {
        "id": "xS_fjd8O6Po4"
      },
      "execution_count": 18,
      "outputs": []
    },
    {
      "cell_type": "code",
      "source": [
        "df2018_chunks.info()"
      ],
      "metadata": {
        "colab": {
          "base_uri": "https://localhost:8080/"
        },
        "id": "UY5ckw5G6fza",
        "outputId": "608686d7-6195-46c6-c838-86cc009802a3"
      },
      "execution_count": 19,
      "outputs": [
        {
          "output_type": "stream",
          "name": "stdout",
          "text": [
            "<class 'pandas.core.frame.DataFrame'>\n",
            "Int64Index: 7096862 entries, 0 to 7213445\n",
            "Data columns (total 17 columns):\n",
            " #   Column               Dtype  \n",
            "---  ------               -----  \n",
            " 0   FL_DATE              object \n",
            " 1   OP_CARRIER           object \n",
            " 2   ORIGIN               object \n",
            " 3   DEST                 object \n",
            " 4   CRS_DEP_TIME         int64  \n",
            " 5   DEP_DELAY            float64\n",
            " 6   TAXI_OUT             float64\n",
            " 7   WHEELS_OFF           float64\n",
            " 8   WHEELS_ON            float64\n",
            " 9   TAXI_IN              float64\n",
            " 10  CRS_ARR_TIME         int64  \n",
            " 11  ARR_DELAY            float64\n",
            " 12  DIVERTED             float64\n",
            " 13  CRS_ELAPSED_TIME     float64\n",
            " 14  ACTUAL_ELAPSED_TIME  float64\n",
            " 15  AIR_TIME             float64\n",
            " 16  DISTANCE             float64\n",
            "dtypes: float64(11), int64(2), object(4)\n",
            "memory usage: 974.6+ MB\n"
          ]
        }
      ]
    },
    {
      "cell_type": "markdown",
      "source": [
        "HANDLING MISSING VALUES"
      ],
      "metadata": {
        "id": "17EnaKz46kuY"
      }
    },
    {
      "cell_type": "code",
      "source": [
        "print('Number of total missing values:', df2018_chunks.isna().sum().sum())\n",
        "print('df1 shape:', df2018_chunks.shape)"
      ],
      "metadata": {
        "colab": {
          "base_uri": "https://localhost:8080/"
        },
        "id": "YorkYITt6nQc",
        "outputId": "7a424406-4694-4026-f18c-c6526f734695"
      },
      "execution_count": 20,
      "outputs": [
        {
          "output_type": "stream",
          "name": "stdout",
          "text": [
            "Number of total missing values: 66246\n",
            "df1 shape: (7096862, 17)\n"
          ]
        }
      ]
    },
    {
      "cell_type": "markdown",
      "source": [
        "FILLING `DEP_DELAY` WITH 0 BECAUSE THE VALUE WILL ONLY BE NaN, ONLY IF THE FLIGHT WASN'T DELAYED"
      ],
      "metadata": {
        "id": "6xYq0Agp-Ibl"
      }
    },
    {
      "cell_type": "markdown",
      "source": [],
      "metadata": {
        "id": "Gf1Q_YvM-Iaj"
      }
    },
    {
      "cell_type": "code",
      "source": [
        "df2018_chunks[\"DEP_DELAY\"] = df2018_chunks[\"DEP_DELAY\"].fillna(0)\n",
        "df2018_chunks.isna().sum()"
      ],
      "metadata": {
        "colab": {
          "base_uri": "https://localhost:8080/"
        },
        "id": "sLuitIje-Q3_",
        "outputId": "f21f34cc-1dd5-4881-d638-3479394ee5e9"
      },
      "execution_count": 21,
      "outputs": [
        {
          "output_type": "execute_result",
          "data": {
            "text/plain": [
              "FL_DATE                    0\n",
              "OP_CARRIER                 0\n",
              "ORIGIN                     0\n",
              "DEST                       0\n",
              "CRS_DEP_TIME               0\n",
              "DEP_DELAY                  0\n",
              "TAXI_OUT                   0\n",
              "WHEELS_OFF                 0\n",
              "WHEELS_ON               2662\n",
              "TAXI_IN                 2662\n",
              "CRS_ARR_TIME               0\n",
              "ARR_DELAY              20456\n",
              "DIVERTED                   0\n",
              "CRS_ELAPSED_TIME           7\n",
              "ACTUAL_ELAPSED_TIME    17858\n",
              "AIR_TIME               17858\n",
              "DISTANCE                   0\n",
              "dtype: int64"
            ]
          },
          "metadata": {},
          "execution_count": 21
        }
      ]
    },
    {
      "cell_type": "markdown",
      "source": [
        "FILLING THIS WITH MEAN BECUASE NO WAY TO CALCULATE THE ACTUAL VALUES"
      ],
      "metadata": {
        "id": "F7bIxgDF_E7b"
      }
    },
    {
      "cell_type": "code",
      "source": [
        "df2018_chunks['TAXI_IN'].fillna((df2018_chunks['TAXI_IN'].mean()), inplace=True)\n",
        "df2018_chunks.info()"
      ],
      "metadata": {
        "colab": {
          "base_uri": "https://localhost:8080/"
        },
        "id": "g-fL-4r4-WMf",
        "outputId": "af8e5234-1654-4b41-dcfd-3758fd4461ca"
      },
      "execution_count": 22,
      "outputs": [
        {
          "output_type": "stream",
          "name": "stdout",
          "text": [
            "<class 'pandas.core.frame.DataFrame'>\n",
            "Int64Index: 7096862 entries, 0 to 7213445\n",
            "Data columns (total 17 columns):\n",
            " #   Column               Dtype  \n",
            "---  ------               -----  \n",
            " 0   FL_DATE              object \n",
            " 1   OP_CARRIER           object \n",
            " 2   ORIGIN               object \n",
            " 3   DEST                 object \n",
            " 4   CRS_DEP_TIME         int64  \n",
            " 5   DEP_DELAY            float64\n",
            " 6   TAXI_OUT             float64\n",
            " 7   WHEELS_OFF           float64\n",
            " 8   WHEELS_ON            float64\n",
            " 9   TAXI_IN              float64\n",
            " 10  CRS_ARR_TIME         int64  \n",
            " 11  ARR_DELAY            float64\n",
            " 12  DIVERTED             float64\n",
            " 13  CRS_ELAPSED_TIME     float64\n",
            " 14  ACTUAL_ELAPSED_TIME  float64\n",
            " 15  AIR_TIME             float64\n",
            " 16  DISTANCE             float64\n",
            "dtypes: float64(11), int64(2), object(4)\n",
            "memory usage: 974.6+ MB\n"
          ]
        }
      ]
    },
    {
      "cell_type": "markdown",
      "source": [
        "DROPPING REST OF THE ROWS"
      ],
      "metadata": {
        "id": "uAD2TYMG_SFO"
      }
    },
    {
      "cell_type": "code",
      "source": [
        "df1 = df2018_chunks.dropna()"
      ],
      "metadata": {
        "id": "5d6VSM7J_UKa"
      },
      "execution_count": 24,
      "outputs": []
    },
    {
      "cell_type": "markdown",
      "source": [
        "DEALING WITH TIME RELATED COLUMNS"
      ],
      "metadata": {
        "id": "7cdGt1QZ_5LT"
      }
    },
    {
      "cell_type": "code",
      "source": [
        "df1['CRS_DEP_TIME'] = np.ceil(df1['CRS_DEP_TIME']/600).apply(int)\n",
        "df1['WHEELS_OFF'] = np.ceil(df1['WHEELS_OFF']/600).apply(int) \n",
        "df1['WHEELS_ON'] = np.ceil(df1['WHEELS_ON']/600).apply(int)\n",
        "df1['CRS_ARR_TIME'] = np.ceil(df1['CRS_ARR_TIME']/600).apply(int)"
      ],
      "metadata": {
        "id": "mAS53gYH_2XO"
      },
      "execution_count": 25,
      "outputs": []
    },
    {
      "cell_type": "code",
      "source": [
        "df1['DAY'] = pd.DatetimeIndex(df1['FL_DATE']).day\n",
        "df1['MONTH'] = pd.DatetimeIndex(df1['FL_DATE']).month"
      ],
      "metadata": {
        "id": "k9OepqCj__o7"
      },
      "execution_count": 26,
      "outputs": []
    },
    {
      "cell_type": "markdown",
      "source": [
        "COLUMN FOR BINARY CLASSIFICATION"
      ],
      "metadata": {
        "id": "zgldNpVMA4RP"
      }
    },
    {
      "cell_type": "code",
      "source": [
        "status = []\n",
        "\n",
        "for value in df1['ARR_DELAY']:\n",
        "    if value < 0:\n",
        "        status.append(0)\n",
        "    else:\n",
        "        status.append(1)\n",
        "df1['FLIGHT_STATUS'] = status"
      ],
      "metadata": {
        "id": "8JsFGrCvA60k"
      },
      "execution_count": 27,
      "outputs": []
    },
    {
      "cell_type": "markdown",
      "source": [
        "---"
      ],
      "metadata": {
        "id": "a1vv3adP20g0"
      }
    },
    {
      "cell_type": "markdown",
      "source": [
        "Per Wikipedia: https://www.wikiwand.com/en/Flight_cancellation_and_delay\n",
        "\n",
        "```\n",
        "Delays are divided into three categories, namely \"on time or small delay\" (up to 15 minutes delay), \"Medium delay\" (15 – 45 minutes delay) and \"Large delay\" ( 45 minutes delay).\n",
        "```"
      ],
      "metadata": {
        "id": "taMWunkgL_BD"
      }
    }
  ]
}