{
  "nbformat": 4,
  "nbformat_minor": 0,
  "metadata": {
    "colab": {
      "provenance": []
    },
    "kernelspec": {
      "name": "python3",
      "display_name": "Python 3"
    },
    "language_info": {
      "name": "python"
    }
  },
  "cells": [
    {
      "cell_type": "markdown",
      "source": [
        "# Flight Delay Prediction ✈️🕗\n",
        "\n",
        "This notebook contains the steps taken to get the data, explore and know about data and preprocess the data for better intrepretation for machine learning model.\n"
      ],
      "metadata": {
        "id": "YOjtEdSK5F1G"
      }
    },
    {
      "cell_type": "markdown",
      "source": [
        "## Step 0: Defining the problem statement\n",
        "\n",
        "**Objective:**  \n",
        "To determine whether an airplane is going to get delayed or not, if yes, find out by the delay (in minutes).  \n",
        "\n",
        "**Speculated Solution:**  \n",
        "Make a model to classify whether a flight is going to get delayed or not, as well as prepare a regression model to predict the time of delay."
      ],
      "metadata": {
        "id": "-j14asGJ7V5c"
      }
    },
    {
      "cell_type": "markdown",
      "source": [
        "## Step 1: Getting the data\n",
        "\n",
        "The data used for this problem is available on [Kaggle](https://www.kaggle.com/datasets/yuanyuwendymu/airline-delay-and-cancellation-data-2009-2018).\n",
        "\n",
        "\n",
        "\n",
        "- Use Kaggle's API to download the data into the Colab Environment\n",
        "- Get the utility functions that may help later.\n",
        "- Configure data files to read using Python\n",
        "\n",
        "The data contains multiple features for each year from 2009 to 2018.\n",
        "\n",
        "Glossary of the features:\n",
        "\n",
        "| Name      | Meaning |\n",
        "| :----------------:        |    :-------------------:   |\n",
        "| FL_Date      | Date of the Flight       |\n",
        "| OP_CARRIER   | Airline Identifier        |\n",
        "| OP_CARRIER_FL_NUM   | Flight Number        |\n",
        "| ORIGIN   | Starting Airport Code        |\n",
        "| DEST   | Destination Airport Code        |\n",
        "| CRS_DEP_TIME   | Planned Departure Time        |\n",
        "| DEP_TIME   | Actual Departure Time        |\n",
        "| DEP_DELAY   | Total Delay on Departure in minutes        |\n",
        "| TAXI_OUT    | Time duration elapsed between departure from the origin airport gate and wheels off        |\n",
        "| WHEELS_OFF    | Time point that the aircraft's wheels leave the ground        |\n",
        "| WHEELS_ON    | Time point that the aircraft's wheels touch on the ground        |\n",
        "| TAXI_IN    | Time duration elapsed between wheels-on and gate arrival at the destination airport        |\n",
        "| CRS_ARR_TIME    | Planned arrival time       |\n",
        "| ARR_TIME     | Actual Arrival Time       |\n",
        "| ARR_DELAY     | Total Delay on Arrival in minutes       |\n",
        "| CANCELLED     | Flight Cancelled (1 = cancelled)       |\n",
        "| CANCELLATION_CODE     | Reason for Cancellation of flight( `A - Airline/Carrier; B - Weather; C - National Air System; D - Security`)   |\n",
        "| DIVERTED     | Aircraft landed on different airport that the one scheduled   |\n",
        "| CRS_ELAPSED_TIME     | Planned time amount needed for the flight trip   |\n",
        "| ACTUAL_ELAPSED_TIME     | `AIR_TIME`+ `TAXI_IN` + `TAXI_OUT`   |\n",
        "| AIR_TIME     | The time duration between wheels_off and wheels_on time   |\n",
        "| DISTANCE     | Distance between two airports   |\n",
        "| CARRIER_DELAY     | Delay caused by the airline in minutes   |\n",
        "| WEATHER_DELAY     | Delay caused by weather   |\n",
        "| NAS_DELAY     | Delay caused by air system   |\n",
        "| SECURITY_DELAY      | Delay caused by security reasons   |\n",
        "| LATE_AIRCRAFT_DELAY      | Delay caused by security  |\n",
        "\n"
      ],
      "metadata": {
        "id": "1h1m0Et88dsg"
      }
    },
    {
      "cell_type": "code",
      "source": [
        "# Getting the helper functions script\n",
        "!wget https://raw.githubusercontent.com/ishandandekar/Airline-delay-prediction/main/src/utils/utils.py\n",
        "\n",
        "# Install the kaggle library\n",
        "!pip install -q kaggle\n",
        "\n",
        "# Upload the Kaggle API keys\n",
        "from google.colab import files\n",
        "files.upload()\n",
        "\n",
        "!mkdir ~/.kaggle\n",
        "\n",
        "# Copy the json file to the folder\n",
        "!cp kaggle.json ~/.kaggle\n",
        "\n",
        "# Change permissions for keys to work with the Kaggle API\n",
        "!chmod 600 ~/.kaggle/kaggle.json\n",
        "\n",
        "# Download the dataset\n",
        "!kaggle datasets download -d yuanyuwendymu/airline-delay-and-cancellation-data-2009-2018 --quiet\n",
        "\n",
        "# Creating a directory to store all kinds of data\n",
        "!mkdir data\n",
        "\n",
        "# Unzip data\n",
        "from utils import unzip_data\n",
        "unzip_data('airline-delay-and-cancellation-data-2009-2018.zip', data_dir=\"data/raw\")"
      ],
      "metadata": {
        "id": "sg7N_cFECPP8"
      },
      "execution_count": null,
      "outputs": []
    },
    {
      "cell_type": "markdown",
      "source": [
        "## Step 2: Know more about the data\n",
        "- Load in the data using Pandas\n",
        "- Optimize data for faster reading\n",
        "- Get the statistics about the data\n",
        "- Fix missing/incorrect values\n",
        "- Analyze features\n",
        "- Summarize observations"
      ],
      "metadata": {
        "id": "6O0QcX9hMJIi"
      }
    },
    {
      "cell_type": "code",
      "source": [
        "from glob import glob\n",
        "\n",
        "from tqdm.notebook import tqdm\n",
        "import numpy as np\n",
        "import pandas as pd\n",
        "import matplotlib.pyplot as plt\n",
        "\n",
        "csv_files = glob(\"data/raw/*.csv\")\n",
        "dfs = []\n",
        "\n",
        "for f in tqdm(csv_files):\n",
        "  df = pd.read_csv(f)\n",
        "  dfs.append(df)\n",
        "\n",
        "df = pd.concat(dfs, ignore_index=True)\n",
        "print(f\"Shape of the data: {df.shape}\")"
      ],
      "metadata": {
        "id": "YCkHBcDfMvE_"
      },
      "execution_count": null,
      "outputs": []
    },
    {
      "cell_type": "code",
      "source": [
        "# Getting the memory and data type information of the data\n",
        "df.info()"
      ],
      "metadata": {
        "id": "9sWQ_zzB6M5P"
      },
      "execution_count": null,
      "outputs": []
    },
    {
      "cell_type": "code",
      "source": [
        "# Converting data types for better read/write optimization\n",
        "categorical_cols = ['OP_CARRIER', 'ORIGIN', 'DEST']\n",
        "\n",
        "for col in categorical_cols:\n",
        "  df[c] = df[c].astype(\"category\")\n",
        "\n",
        "# Checking the memory usage again\n",
        "df.info(verbose=False)"
      ],
      "metadata": {
        "id": "4QvObrSt8DXa"
      },
      "execution_count": null,
      "outputs": []
    },
    {
      "cell_type": "code",
      "source": [
        "# Checking null values\n",
        "df.isnull().sum() * 100 / len(df)"
      ],
      "metadata": {
        "id": "7IqUWCpa_rky"
      },
      "execution_count": null,
      "outputs": []
    },
    {
      "cell_type": "markdown",
      "source": [
        "Per Wikipedia: https://www.wikiwand.com/en/Flight_cancellation_and_delay\n",
        "\n",
        "```\n",
        "Delays are divided into three categories, namely \"on time or small delay\" (up to 15 minutes delay), \"Medium delay\" (15 – 45 minutes delay) and \"Large delay\" ( 45 minutes delay).\n",
        "```"
      ],
      "metadata": {
        "id": "taMWunkgL_BD"
      }
    },
    {
      "cell_type": "markdown",
      "source": [
        "--------\n",
        "CODE SNIPPET TO USE:\n",
        "```python\n",
        "t=\"1318\"\n",
        "pd.to_datetime(t, format='%H%M')\n",
        "Out[111]:\n",
        "Timestamp('1900-01-01 13:18:00')\n",
        "```"
      ],
      "metadata": {
        "id": "uiLJOvIYPVWL"
      }
    },
    {
      "cell_type": "code",
      "source": [
        "# Adding column to check whether it was delayed or not\n",
        "df['FLIGHT_STATUS'] = df['ARR_DELAY'] > 0"
      ],
      "metadata": {
        "id": "k9jBjeRlDIjl"
      },
      "execution_count": null,
      "outputs": []
    },
    {
      "cell_type": "markdown",
      "source": [
        "> Check whether delay is correct or not by subtracting columns"
      ],
      "metadata": {
        "id": "9aHD68dFRvKn"
      }
    }
  ]
}