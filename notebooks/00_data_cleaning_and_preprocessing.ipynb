{
  "nbformat": 4,
  "nbformat_minor": 0,
  "metadata": {
    "colab": {
      "provenance": []
    },
    "kernelspec": {
      "name": "python3",
      "display_name": "Python 3"
    },
    "language_info": {
      "name": "python"
    }
  },
  "cells": [
    {
      "cell_type": "markdown",
      "source": [
        "# Flight Delay Prediction ✈️🕗\n",
        "\n",
        "This notebook contains the steps taken to get the data, explore and know about data and preprocess the data for better intrepretation for machine learning model.\n"
      ],
      "metadata": {
        "id": "YOjtEdSK5F1G"
      }
    },
    {
      "cell_type": "markdown",
      "source": [
        "## Step 0: Defining the problem statement\n",
        "\n",
        "**Objective:**  \n",
        "To determine whether an airplane is going to get delayed or not, if yes, find out by the delay (in minutes).  \n",
        "\n",
        "**Speculated Solution:**  \n",
        "Make a model to classify whether a flight is going to get delayed or not, as well as prepare a regression model to predict the time of delay."
      ],
      "metadata": {
        "id": "-j14asGJ7V5c"
      }
    },
    {
      "cell_type": "markdown",
      "source": [
        "## Step 1: Getting the data\n",
        "\n",
        "The data used for this problem is available on [Kaggle](https://www.kaggle.com/datasets/yuanyuwendymu/airline-delay-and-cancellation-data-2009-2018).\n",
        "\n",
        "\n",
        "\n",
        "- Use Kaggle's API to download the data into the Colab Environment\n",
        "- Get the utility functions that may help later.\n",
        "- Configure data files to read using Python\n",
        "\n",
        "The data contains multiple features for each year from 2009 to 2018.\n",
        "\n",
        "Glossary of the features:\n",
        "\n",
        "| Name      | Meaning |\n",
        "| :----------------:        |    :-------------------:   |\n",
        "| FL_Date      | Date of the Flight       |\n",
        "| OP_CARRIER   | Airline Identifier        |\n",
        "| OP_CARRIER_FL_NUM   | Flight Number        |\n",
        "| ORIGIN   | Starting Airport Code        |\n",
        "| DEST   | Destination Airport Code        |\n",
        "| CRS_DEP_TIME   | Planned Departure Time        |\n",
        "| DEP_TIME   | Actual Departure Time        |\n",
        "| DEP_DELAY   | Total Delay on Departure in minutes        |\n",
        "| TAXI_OUT    | Time duration elapsed between departure from the origin airport gate and wheels off        |\n",
        "| WHEELS_OFF    | Time point that the aircraft's wheels leave the ground        |\n",
        "| WHEELS_ON    | Time point that the aircraft's wheels touch on the ground        |\n",
        "| TAXI_IN    | Time duration elapsed between wheels-on and gate arrival at the destination airport        |\n",
        "| CRS_ARR_TIME    | Planned arrival time       |\n",
        "| ARR_TIME     | Actual Arrival Time       |\n",
        "| ARR_DELAY     | Total Delay on Arrival in minutes       |\n",
        "| CANCELLED     | Flight Cancelled (1 = cancelled)       |\n",
        "| CANCELLATION_CODE     | Reason for Cancellation of flight( `A - Airline/Carrier; B - Weather; C - National Air System; D - Security`)   |\n",
        "| DIVERTED     | Aircraft landed on different airport that the one scheduled   |\n",
        "| CRS_ELAPSED_TIME     | Planned time amount needed for the flight trip   |\n",
        "| ACTUAL_ELAPSED_TIME     | `AIR_TIME`+ `TAXI_IN` + `TAXI_OUT`   |\n",
        "| AIR_TIME     | The time duration between wheels_off and wheels_on time   |\n",
        "| DISTANCE     | Distance between two airports   |\n",
        "| CARRIER_DELAY     | Delay caused by the airline in minutes   |\n",
        "| WEATHER_DELAY     | Delay caused by weather   |\n",
        "| NAS_DELAY     | Delay caused by air system   |\n",
        "| SECURITY_DELAY      | Delay caused by security reasons   |\n",
        "| LATE_AIRCRAFT_DELAY      | Delay caused by security  |\n",
        "\n"
      ],
      "metadata": {
        "id": "1h1m0Et88dsg"
      }
    },
    {
      "cell_type": "code",
      "source": [
        "# Getting the helper functions script\n",
        "!wget https://raw.githubusercontent.com/ishandandekar/Airline-delay-prediction/main/src/utils/utils.py\n",
        "\n",
        "# Install the kaggle library\n",
        "!pip install -q kaggle\n",
        "\n",
        "# Upload the Kaggle API keys\n",
        "from google.colab import files\n",
        "files.upload()\n",
        "\n",
        "!mkdir ~/.kaggle\n",
        "\n",
        "# Copy the json file to the folder\n",
        "!cp kaggle.json ~/.kaggle\n",
        "\n",
        "# Change permissions for keys to work with the Kaggle API\n",
        "!chmod 600 ~/.kaggle/kaggle.json\n",
        "\n",
        "# Download the dataset\n",
        "!kaggle datasets download -d yuanyuwendymu/airline-delay-and-cancellation-data-2009-2018 --quiet\n",
        "\n",
        "# Creating a directory to store all kinds of data\n",
        "!mkdir data\n",
        "\n",
        "# Unzip data\n",
        "from utils import unzip_data\n",
        "unzip_data('airline-delay-and-cancellation-data-2009-2018.zip', data_dir=\"data/raw\")"
      ],
      "metadata": {
        "id": "sg7N_cFECPP8"
      },
      "execution_count": null,
      "outputs": []
    },
    {
      "cell_type": "markdown",
      "source": [
        "## Step 2: Know more about the data\n",
        "- Load in the data using Pandas\n",
        "- Optimize data for faster reading\n",
        "- Get the statistics about the data\n",
        "- Fix missing/incorrect values\n",
        "- Analyze features\n",
        "- Summarize observations"
      ],
      "metadata": {
        "id": "6O0QcX9hMJIi"
      }
    },
    {
      "cell_type": "code",
      "source": [
        "from glob import glob\n",
        "from datetime import datetime\n",
        "\n",
        "from tqdm.notebook import tqdm\n",
        "import numpy as np\n",
        "import pandas as pd\n",
        "import matplotlib.pyplot as plt\n",
        "import seaborn as sns\n",
        "\n",
        "def validate_int2str(col):\n",
        "    try:\n",
        "        if col: \n",
        "            col = int(float(col))         \n",
        "            if (col):\n",
        "                col = str(col).zfill(4) \n",
        "                col = datetime.strptime(col, '%H%M').time().strftime(\"%I:%M\") \n",
        "            return col   \n",
        "        else: \n",
        "            return np.NaN          \n",
        "    except Exception as e:      \n",
        "        return np.NaN\n",
        "\n",
        "def optimize_dataframe(df: pd.DataFrame) -> pd.DataFrame:\n",
        "  df = df.copy(deep=True)\n",
        "\n",
        "  print(f\"Before memory optimization: {df.memory_usage(deep=True).sum() * 0.000001} MBs\")\n",
        "\n",
        "  print(\"Dropping columns...\")\n",
        "  df = df.drop('Unnamed: 27', axis=1)\n",
        "  # df = df.drop('CARRIER_DELAY', axis=1)\n",
        "  # df = df.drop('WEATHER_DELAY', axis=1)\n",
        "  # df = df.drop('NAS_DELAY', axis=1)\n",
        "  # df = df.drop('SECURITY_DELAY', axis=1)\n",
        "  # df = df.drop('CANCELLATION_CODE', axis=1)\n",
        "\n",
        "  print(\"Changing data types...\")\n",
        "  df['FL_DATE'] = pd.to_datetime(df['FL_DATE'], yearfirst=True)\n",
        "  df['DEP_TIME'] = df['DEP_TIME'].astype('int8', errors='ignore')\n",
        "  df['DEP_DELAY'] = df['DEP_DELAY'].astype('int8', errors='ignore')\n",
        "  df['OP_CARRIER_FL_NUM'] = df['OP_CARRIER_FL_NUM'].astype('category', errors='ignore')\n",
        "  df['OP_CARRIER'] = df['OP_CARRIER'].astype('category', errors='ignore')\n",
        "  df['ORIGIN'] = df['ORIGIN'].astype('category', errors='ignore')\n",
        "  df['DEST'] = df['DEST'].astype('category', errors='ignore')\n",
        "  df['CANCELLED'] = df['CANCELLED'].astype('bool', errors='ignore')\n",
        "  df['DIVERTED'] = df['DIVERTED'].astype('bool', errors='ignore')\n",
        "  df['CANCELLATION_CODE'] = df['CANCELLATION_CODE'].astype('category', errors='ignore')\n",
        "\n",
        "  print(\"Parsing time columns...\")\n",
        "  cols_ = ['CRS_DEP_TIME', 'DEP_TIME', 'CRS_ARR_TIME', 'ARR_TIME', 'ARR_TIME', 'NAS_DELAY', 'SECURITY_DELAY', 'CARRIER_DELAY', 'LATE_AIRCRAFT_DELAY', 'WHEELS_OFF', 'WHEELS_ON']\n",
        "  for col_ in cols_:\n",
        "    df[col_] = df[col_].apply(lambda x: validate_int2str(x))\n",
        "\n",
        "  # df['CRS_DEP_TIME'] = df['CRS_DEP_TIME']\n",
        "  # df['DEP_TIME'] = df['DEP_TIME'].apply(lambda x: validate_int2str(x))\n",
        "  # df['CRS_ARR_TIME'] = df['CRS_ARR_TIME'].apply(lambda x: validate_int2str(x))\n",
        "  # df['ARR_TIME'] = df['ARR_TIME'].apply(lambda x: validate_int2str(x))\n",
        "  # df['NAS_DELAY'] = df['NAS_DELAY'].apply(lambda x: validate_int2str(x))\n",
        "  # df['SECURITY_DELAY'] = df['SECURITY_DELAY'].apply(lambda x: validate_int2str(x))\n",
        "  # df['CARRIER_DELAY'] = df['CARRIER_DELAY'].apply(lambda x: validate_int2str(x))\n",
        "  # df['LATE_AIRCRAFT_DELAY'] = df['LATE_AIRCRAFT_DELAY'].apply(lambda x: validate_int2str(x))\n",
        "  # df['WHEELS_OFF'] = df['WHEELS_OFF'].apply(lambda x: validate_int2str(x))\n",
        "  # df['WHEELS_ON'] = df['WHEELS_ON'].apply(lambda x: validate_int2str(x))\n",
        "\n",
        "  print(f\"After memory optimization: {df.memory_usage(deep=True).sum() * 0.000001} MBs\")\n",
        "\n",
        "  return df\n",
        "\n",
        "# csv_files = glob(\"data/raw/*.csv\")\n",
        "# dfs = []\n",
        "\n",
        "# for f in tqdm(csv_files):\n",
        "#   df = pd.read_csv(f)\n",
        "#   df = optimize_dataframe(df)\n",
        "#   dfs.append(df)\n",
        "\n",
        "# df = pd.concat(dfs, ignore_index=True)\n",
        "# print(f\"Shape of the data: {df.shape}\")"
      ],
      "metadata": {
        "id": "nUzEe_79QrMx"
      },
      "execution_count": null,
      "outputs": []
    },
    {
      "cell_type": "code",
      "source": [
        "# Getting the memory and data type information of the data\n",
        "df.info()"
      ],
      "metadata": {
        "id": "9sWQ_zzB6M5P"
      },
      "execution_count": null,
      "outputs": []
    },
    {
      "cell_type": "code",
      "source": [
        "# Checking the first 5 rows of data\n"
      ],
      "metadata": {
        "id": "byn5KsbnOIiZ"
      },
      "execution_count": null,
      "outputs": []
    },
    {
      "cell_type": "markdown",
      "source": [
        "----\n",
        "TEST"
      ],
      "metadata": {
        "id": "7ipGkQ0SOTzY"
      }
    },
    {
      "cell_type": "code",
      "source": [
        "import numpy as np\n",
        "import pandas as pd\n",
        "import matplotlib.pyplot as plt\n",
        "df2009 = pd.read_csv('/content/data/raw/2009.csv')\n",
        "df2009.info()"
      ],
      "metadata": {
        "id": "utWyS_7WOWeZ"
      },
      "execution_count": null,
      "outputs": []
    },
    {
      "cell_type": "code",
      "source": [
        "df2009_optimized = optimize_dataframe(df2009)\n",
        "df2009_optimized.info()"
      ],
      "metadata": {
        "id": "QKPhF3o_BQkd"
      },
      "execution_count": null,
      "outputs": []
    },
    {
      "cell_type": "code",
      "source": [
        "df2009['CRS_DEP_TIME'].head(3)"
      ],
      "metadata": {
        "id": "SbuFLJSlFx9I"
      },
      "execution_count": null,
      "outputs": []
    },
    {
      "cell_type": "code",
      "source": [
        "df2009['CRS_DEP_TIME2'] = df2009['CRS_DEP_TIME'].apply(lambda x: validate_int2str(x))"
      ],
      "metadata": {
        "id": "cFzvWdg9GxPU"
      },
      "execution_count": null,
      "outputs": []
    },
    {
      "cell_type": "code",
      "source": [
        "df2009['CRS_DEP_TIME3'] = pd.to_datetime(df2009['CRS_DEP_TIME2'], format='%I:%M')"
      ],
      "metadata": {
        "id": "sdXlBKpVG3dE"
      },
      "execution_count": null,
      "outputs": []
    },
    {
      "cell_type": "code",
      "source": [
        "df2009['CRS_DEP_TIME3'].dt.time.head(3)"
      ],
      "metadata": {
        "id": "m1hukEzsHYcP"
      },
      "execution_count": null,
      "outputs": []
    },
    {
      "cell_type": "code",
      "source": [
        "df2009_optimized['CRS_DEP_TIME'] = df2009_optimized['CRS_DEP_TIME'].apply(lambda x: validate_int2str(x))"
      ],
      "metadata": {
        "id": "7CCJUstWE7DB"
      },
      "execution_count": null,
      "outputs": []
    },
    {
      "cell_type": "code",
      "source": [
        "df2009_optimized['CRS_DEP_TIME'].isna().sum()*100/len(df2009_optimized)"
      ],
      "metadata": {
        "id": "I2kpIcUZFelZ"
      },
      "execution_count": null,
      "outputs": []
    },
    {
      "cell_type": "code",
      "source": [
        "df2009.columns"
      ],
      "metadata": {
        "id": "wfzvgxfLSFBh"
      },
      "execution_count": null,
      "outputs": []
    },
    {
      "cell_type": "code",
      "source": [
        "df2009.info()"
      ],
      "metadata": {
        "id": "KYAzk-dnv2hY"
      },
      "execution_count": null,
      "outputs": []
    },
    {
      "cell_type": "code",
      "source": [
        "df2009.head(2)"
      ],
      "metadata": {
        "id": "1paXPxD9RElp"
      },
      "execution_count": null,
      "outputs": []
    },
    {
      "cell_type": "code",
      "source": [
        "df2009.shape"
      ],
      "metadata": {
        "id": "ytqdBzckUCeY"
      },
      "execution_count": null,
      "outputs": []
    },
    {
      "cell_type": "code",
      "source": [
        "df_without_null = df2009.dropna(subset=['DEP_TIME', 'DEP_DELAY', 'TAXI_OUT', 'WHEELS_OFF', 'WHEELS_ON', 'TAXI_IN', 'CRS_ARR_TIME', 'ARR_TIME', 'ARR_DELAY'])"
      ],
      "metadata": {
        "id": "ql-hXctZTiJQ"
      },
      "execution_count": null,
      "outputs": []
    },
    {
      "cell_type": "code",
      "source": [
        "df_without_null.head(2)"
      ],
      "metadata": {
        "id": "gT287Bg5UVJk"
      },
      "execution_count": null,
      "outputs": []
    },
    {
      "cell_type": "code",
      "source": [
        "df2009['WHEELS_OFF'].head(10)"
      ],
      "metadata": {
        "id": "PqJrXFE05BAm"
      },
      "execution_count": null,
      "outputs": []
    },
    {
      "cell_type": "code",
      "source": [
        "# Checking null values\n",
        "df.isnull().sum() * 100 / len(df)"
      ],
      "metadata": {
        "id": "7IqUWCpa_rky"
      },
      "execution_count": null,
      "outputs": []
    },
    {
      "cell_type": "markdown",
      "source": [
        "Per Wikipedia: https://www.wikiwand.com/en/Flight_cancellation_and_delay\n",
        "\n",
        "```\n",
        "Delays are divided into three categories, namely \"on time or small delay\" (up to 15 minutes delay), \"Medium delay\" (15 – 45 minutes delay) and \"Large delay\" ( 45 minutes delay).\n",
        "```"
      ],
      "metadata": {
        "id": "taMWunkgL_BD"
      }
    },
    {
      "cell_type": "code",
      "source": [
        "# Adding column to check whether it was delayed or not\n",
        "df['FLIGHT_STATUS'] = df['ARR_DELAY'] > 0"
      ],
      "metadata": {
        "id": "k9jBjeRlDIjl"
      },
      "execution_count": null,
      "outputs": []
    },
    {
      "cell_type": "markdown",
      "source": [
        "> Check whether delay is correct or not by subtracting columns"
      ],
      "metadata": {
        "id": "9aHD68dFRvKn"
      }
    }
  ]
}